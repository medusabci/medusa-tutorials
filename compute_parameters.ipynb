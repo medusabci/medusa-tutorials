{
 "cells": [
  {
   "cell_type": "markdown",
   "metadata": {
    "collapsed": true,
    "pycharm": {
     "name": "#%% md\n"
    }
   },
   "source": [
    "# Welcome to the parameter computation tutorial!\n",
    "\n",
    "In this tutorial you will learn how to compute the different signal-analysis parameters implemented in Medusa.\n",
    "\n",
    "First of all, it is worth mentioning the different categories where our parameters belong. These categories are defined  in  (see Fig. 9 there) [1].\n",
    "\n",
    "In the first category there are the **\"local activation\"** parameters. The parameters belonging to this category analyze the signal of each sensor individually. That is, the parameters in this category return a single value for sensor and epoch. The parameters here can be divided in two sub-categories: spectral and non-linear. The **spectral parameters** measure different properties of the signal's power spectral density. On the other hand, the **non-linear parameters** assess the time courses of the signals, evaluating its non-linear properties such as the complexity, irregularity, or variability.\n",
    "\n",
    "In the second category there are the **\"connectivity\"** parameters. These parameters evaluate every pair-wise interaction between sensors. There are lots of connectivity parameters, nonetheless, in MEDUSA we have implemented only a couple of them, that could be grouped in two sub-categories: amplitude-based, and phase-based. The **amplitude-based parameters** employ the amplitude time-course of the signal to estimate the coupling between each pair of channels. On the other hand, the **phase-based parameters** use the information about the instantaneous phase of the signal to estimate the connection between two channels. These parameters return a square matrix (*number_of_channels*$\\times$*number_of_channels*) for each epoch. In these matrices, each element $a_{ij}$ represents the strength of the coupling between channels $i$ and $j$.\n",
    "\n",
    "Finally, in the third category there are the **\"network\"** parameters. These parameters assess the brain pair-wise connections from a holistic point of view. They interpret the square matrices obtained from the parameters in the previous category as a graph, with the sensors being the nodes, and its couplings the links. In consequence, all the parameters belonging to this category are derived from the graph theory. This section is under development, stay tuned as we will be releasing the parameters belonging to this category soon."
   ]
  },
  {
   "cell_type": "markdown",
   "source": [
    "### Local activation parameters\n",
    "\n",
    "Spectral local-activation parameters implemented in MEDUSA:\n",
    "- Relative power (RP): This is the only parameter that returns more than one value per sensor and epoch. In fact, it is because it calculates $M$ parameters, being $M$ the number of bands selected to compute the RP.\n",
    "\n",
    "Non-linear local-activation parameters implemented in MEDUSA:\n",
    "- Lempel-Ziv complexity (LZC):  It is a coarse-grain complexity measure. LZC estimates the complexity by counting the number of subsequences that the binarized version of the analyzed signal contains. It assigns higher values to more complex time series\n",
    "- Sample entropy (SampEn):  SampEn is an irregularity measure that assigns higher values to more irregular time\n",
    "sequences. It has two tuning parameters: the sequence length and the tolerance. Based on previous studies, common values for these parameters are $1$ for the sequence length [2,3] and $0.1\\times std$ (std: standard deviation of the signal) (for EEG signals [2]) or $0.25\\times std$ (for MEG signals [3]) for the tolerance.\n",
    "- Central tendency measure (CTM): This parameter is useful to quantify the variability of a signal. CTM assigns higher values to less variable signals. It is based on calculating the second-order differences diagram of the time series and then counting the points within a radius. This radius is a tuning parameter. Based on previous studies, common values for it are 0.075 (for EEG signals [2]) or 0.025 (for MEG signals [3]).\n",
    "\n",
    "If you need any further information on any parameter, dive into the code, as in the majority of the cases, the references on the original paper are provided. After that, if you still need help, do not hesitate to contact us in our discussion forum [here](https://forum.medusabci.com/) or via email (support@medusabci.com)."
   ],
   "metadata": {
    "collapsed": false,
    "pycharm": {
     "name": "#%% md\n"
    }
   }
  },
  {
   "cell_type": "markdown",
   "source": [
    "#### Requests\n",
    "\n",
    "If you think that MEDUSA is missing some interesting parameter, or you want to ask for a new metric that you need, do not hesitate to contact us in our discussion forum [here](https://forum.medusabci.com/) or via email (support@medusabci.com)."
   ],
   "metadata": {
    "collapsed": false,
    "pycharm": {
     "name": "#%% md\n"
    }
   }
  },
  {
   "cell_type": "markdown",
   "source": [
    "#### References\n",
    "\n",
    "[1]. Stam, C. J., & van Straaten, E. C. W. (2012). The organization of physiological brain networks. Clinical Neurophysiology, 123(6), 1067–1087. https://doi.org/10.1016/j.clinph.2012.01.011\n",
    "[2]. Ruiz-Gómez, S., Gómez, C., Poza, J., Gutiérrez-Tobal, G., Tola-Arribas, M., Cano, M., & Hornero, R. (2018). Automated Multiclass Classification of Spontaneous EEG Activity in Alzheimer’s Disease and Mild Cognitive Impairment. Entropy, 20(1), 35. https://doi.org/10.3390/e20010035\n",
    "[3]. Rodríguez-González, V., Gómez, C., Hoshi, H., Shigihara, Y., Hornero, R., & Poza, J. (2021). Exploring the Interactions Between Neurophysiology and Cognitive and Behavioral Changes Induced by a Non-pharmacological Treatment: A Network Approach. Frontiers in Aging Neuroscience, 13(696174), 1–15. https://doi.org/10.3389/fnagi.2021.696174"
   ],
   "metadata": {
    "collapsed": false,
    "pycharm": {
     "name": "#%% md\n"
    }
   }
  },
  {
   "cell_type": "code",
   "execution_count": null,
   "outputs": [],
   "source": [],
   "metadata": {
    "collapsed": false,
    "pycharm": {
     "name": "#%%\n"
    }
   }
  }
 ],
 "metadata": {
  "kernelspec": {
   "display_name": "Python 3",
   "language": "python",
   "name": "python3"
  },
  "language_info": {
   "codemirror_mode": {
    "name": "ipython",
    "version": 2
   },
   "file_extension": ".py",
   "mimetype": "text/x-python",
   "name": "python",
   "nbconvert_exporter": "python",
   "pygments_lexer": "ipython2",
   "version": "2.7.6"
  }
 },
 "nbformat": 4,
 "nbformat_minor": 0
}