{
 "cells": [
  {
   "cell_type": "markdown",
   "metadata": {},
   "source": [
    "# Welcome to the creation of models for ERP-based spellers tutorial!\n",
    "\n",
    "Medusa is a framework designed for scientists and developers who investigate\n",
    "novel signal processing algorithms, reducing the development and testing time\n",
    "in real experiments. This includes not only the implementation of cutting-edge\n",
    "signal processing methods, but also high level functionalities to assure the\n",
    "persistence and reproducibility of the algorithms created within the framework.\n",
    "One of they key features that makes Medusa so powerful is its ability to\n",
    "implement and share standalone algorithms out of the box compatible with\n",
    "Medusa applications.\n",
    "\n",
    "In this notebook you will learn:\n",
    "- How to create a custom model for ERP-based spellers\n",
    "- Save the algorithm\n",
    "- Use the algorithm in Medusa platform\n",
    "\n",
    "Before this tutorial, make sure you have checked:\n",
    "- [Algorithm creation tutorial](algorithms_tut_basic.ipynb)\n",
    "- [Overview of erp_spellers module](erp_spellers_tut.ipynb)\n",
    "\n",
    "Do not forget to check the documentation if you do not understand something!\n"
   ]
  },
  {
   "cell_type": "markdown",
   "metadata": {},
   "source": [
    "## Introduction\n",
    "\n",
    "In the world of brain-computer interfaces, novel algorithms arise every day to\n",
    "improve these systems. However, most of these methods are not tested in online\n",
    "experiments due to the technical complexity and time required to develop full\n",
    "stack BCIs, putting in doubt their real usefulness. With Medusa, you can\n",
    "focus on the development of new algorithms because, by following some simple\n",
    "rules, you can implement a standalone algorithm to decode brain signals in\n",
    "real time and put it in production within minutes! All of this, assuring\n",
    "interoperability with existing frameworks such as sklearn, mne, etc. Ready?"
   ]
  },
  {
   "cell_type": "markdown",
   "metadata": {},
   "source": [
    "## Imports\n",
    "\n",
    "Import the modules that will be used in this notebook"
   ]
  },
  {
   "cell_type": "code",
   "execution_count": 1,
   "metadata": {
    "pycharm": {
     "name": "#%% cd\n"
    }
   },
   "outputs": [],
   "source": [
    "# Built-in imports\n",
    "import glob\n",
    "\n",
    "# External imports\n",
    "from sklearn.svm import SVC\n",
    "import numpy as np\n",
    "from tabulate import tabulate\n",
    "\n",
    "# Medusa imports\n",
    "from medusa import components\n",
    "from medusa.meeg import meeg\n",
    "from medusa.bci import erp_spellers\n",
    "\n",
    "\n",
    "def print_acc_per_seq(acc_per_seq):\n",
    "    table_cmd_acc_per_seq = ['Command decoding acc']\n",
    "    cmd_acc_per_seq = np.char.mod('%.2f', acc_per_seq*100).astype(str).tolist()\n",
    "    table_cmd_acc_per_seq += cmd_acc_per_seq\n",
    "    headers = [''] + list(range(1, 16))\n",
    "    print('\\nTrain accuracy per number of sequences of stimulation:\\n')\n",
    "    print(tabulate([table_cmd_acc_per_seq], headers=headers))"
   ]
  },
  {
   "cell_type": "markdown",
   "metadata": {},
   "source": [
    "## Download the dataset\n",
    "\n",
    "As strong supporters of open science, we have released and adapted some\n",
    "valuable datasets that can be very useful for researchers and practitioners.\n",
    "These datasets can be downloaded manually from www.medusa.com/datasets/ or\n",
    "using a simple API. In this case, we will use the API. Run the following cell\n",
    "to download the GIB-UVa ERP dataset [1].\n",
    "\n",
    "Each file is an instance of medusa.data_structures.Recording. This class\n",
    "contains the information of the performed experiment, and the recorded\n",
    "biosignals. In this case, the recordings contain an instance of\n",
    "medusa.components.ERPSpellerData, which is the default class for\n",
    "ERPBasedSpellers. Additionally, all recordings contain a medusa.meeg.EEG\n",
    "instance."
   ]
  },
  {
   "cell_type": "code",
   "execution_count": 2,
   "outputs": [],
   "source": [
    "# TODO: Download dataset\n",
    "# dataset_folder = os.getcwd()"
   ],
   "metadata": {
    "collapsed": false,
    "pycharm": {
     "name": "#%% cd\n"
    }
   }
  },
  {
   "cell_type": "code",
   "execution_count": 3,
   "outputs": [
    {
     "name": "stdout",
     "output_type": "stream",
     "text": [
      "OK!\n"
     ]
    },
    {
     "name": "stderr",
     "output_type": "stream",
     "text": [
      "C:\\Users\\Diego\\AppData\\Local\\Programs\\Python\\Python310\\lib\\site-packages\\medusa\\bci\\erp_spellers.py:650: UserWarning: Parameter fs is None. The consistency of the dataset cannot be assured. Still, you can use target_fs parameter for feature extraction and everything should be fine.\n",
      "  warnings.warn('Parameter fs is None. The consistency of the '\n"
     ]
    }
   ],
   "source": [
    "cha_set = meeg.EEGChannelSet()\n",
    "cha_set.set_standard_montage(l_cha=['Fz', 'Cz', 'Pz', 'Oz'])\n",
    "dataset = erp_spellers.ERPSpellerDataset(channel_set=cha_set,\n",
    "                                         biosignal_att_key='eeg',\n",
    "                                         experiment_att_key='erpspellerdata',\n",
    "                                         experiment_mode='train')\n",
    "\n",
    "print('OK!')"
   ],
   "metadata": {
    "collapsed": false,
    "pycharm": {
     "name": "#%% cd\n"
    }
   }
  },
  {
   "cell_type": "markdown",
   "source": [
    "## Add recordings to the dataset\n",
    "\n",
    "Now, we have to add the recordings to the dataset. With this purpose, we read\n",
    "the files that were downloaded and use the function add_recordings of our\n",
    "dataset. Note that this function admits instances of medusa.components.Recording\n",
    "or a list of paths. For convenience, we will use the second option in this case."
   ],
   "metadata": {
    "collapsed": false
   }
  },
  {
   "cell_type": "code",
   "execution_count": 4,
   "outputs": [
    {
     "ename": "ValueError",
     "evalue": "Parameter recordings is empty!",
     "output_type": "error",
     "traceback": [
      "\u001B[1;31m---------------------------------------------------------------------------\u001B[0m",
      "\u001B[1;31mValueError\u001B[0m                                Traceback (most recent call last)",
      "Cell \u001B[1;32mIn[4], line 4\u001B[0m\n\u001B[0;32m      2\u001B[0m file_pattern \u001B[38;5;241m=\u001B[39m \u001B[38;5;124m'\u001B[39m\u001B[38;5;124m*.rcp.bson\u001B[39m\u001B[38;5;124m'\u001B[39m\n\u001B[0;32m      3\u001B[0m files \u001B[38;5;241m=\u001B[39m glob\u001B[38;5;241m.\u001B[39mglob(\u001B[38;5;124m'\u001B[39m\u001B[38;5;132;01m%s\u001B[39;00m\u001B[38;5;124m/\u001B[39m\u001B[38;5;132;01m%s\u001B[39;00m\u001B[38;5;124m'\u001B[39m \u001B[38;5;241m%\u001B[39m (folder, file_pattern))\n\u001B[1;32m----> 4\u001B[0m \u001B[43mdataset\u001B[49m\u001B[38;5;241;43m.\u001B[39;49m\u001B[43madd_recordings\u001B[49m\u001B[43m(\u001B[49m\u001B[43mfiles\u001B[49m\u001B[43m)\u001B[49m\n\u001B[0;32m      6\u001B[0m \u001B[38;5;28mprint\u001B[39m(\u001B[38;5;124m'\u001B[39m\u001B[38;5;124mOK!\u001B[39m\u001B[38;5;124m'\u001B[39m)\n",
      "File \u001B[1;32m~\\AppData\\Local\\Programs\\Python\\Python310\\lib\\site-packages\\medusa\\components.py:1055\u001B[0m, in \u001B[0;36mDataset.add_recordings\u001B[1;34m(self, recordings)\u001B[0m\n\u001B[0;32m   1053\u001B[0m recordings \u001B[38;5;241m=\u001B[39m [recordings] \u001B[38;5;28;01mif\u001B[39;00m \u001B[38;5;28mtype\u001B[39m(recordings) \u001B[38;5;241m!=\u001B[39m \u001B[38;5;28mlist\u001B[39m \u001B[38;5;28;01melse\u001B[39;00m recordings\n\u001B[0;32m   1054\u001B[0m \u001B[38;5;28;01mif\u001B[39;00m \u001B[38;5;28mlen\u001B[39m(recordings) \u001B[38;5;241m==\u001B[39m \u001B[38;5;241m0\u001B[39m:\n\u001B[1;32m-> 1055\u001B[0m     \u001B[38;5;28;01mraise\u001B[39;00m \u001B[38;5;167;01mValueError\u001B[39;00m(\u001B[38;5;124m'\u001B[39m\u001B[38;5;124mParameter recordings is empty!\u001B[39m\u001B[38;5;124m'\u001B[39m)\n\u001B[0;32m   1056\u001B[0m \u001B[38;5;66;03m# Add recordings\u001B[39;00m\n\u001B[0;32m   1057\u001B[0m \u001B[38;5;28;01mfor\u001B[39;00m r \u001B[38;5;129;01min\u001B[39;00m recordings:\n\u001B[0;32m   1058\u001B[0m     \u001B[38;5;66;03m# Check if recording is instance of Recording of path\u001B[39;00m\n",
      "\u001B[1;31mValueError\u001B[0m: Parameter recordings is empty!"
     ]
    }
   ],
   "source": [
    "folder = 'data'\n",
    "file_pattern = '*.rcp.bson'\n",
    "files = glob.glob('%s/%s' % (folder, file_pattern))\n",
    "dataset.add_recordings(files)\n",
    "\n",
    "print('OK!')"
   ],
   "metadata": {
    "collapsed": false,
    "pycharm": {
     "name": "#%% cd\n"
    }
   }
  },
  {
   "cell_type": "markdown",
   "metadata": {},
   "source": [
    "## Algorithm\n",
    "\n",
    "The next step is to instantiate the methods that will compose the algorithm,\n",
    "but take into account that only methods that inherit from\n",
    "medusa.components.ProcessingMethod can be added to the\n",
    "Algorithm class. Medusa framework includes a wide variety of signal processing\n",
    "methods ready to use. Nevertheless, function and class wrappers have also been\n",
    "designed to assure full interoperability with external packages.\n",
    "\n",
    "To show these functionalities, we will implement a custom algorithm based on a\n",
    "support vector machine (SVM) using the sklearn package. The algorithm will\n",
    "have the following stages:\n",
    "1. **Preprocessing:** frequency filtering using an IIR filter with order=5 and\n",
    "cutoff frequences in (0.5, 10) Hz and spatial filtering using common average\n",
    "reference (CAR).\n",
    "2. **Feature extraction:** EEG epochs from (0, 1000) ms after each stimulus\n",
    "onset, baseline normalization (-250, 0) ms and downsampling to 20 Hz\n",
    "3. **Feature classification:** SVM classifier using the implementation of\n",
    "sklearn wrapped with ProcessingClassWrapper.\n",
    "4. **Command decoding:** additional data processing to decode the selected\n",
    "commands form predicted scores of EEG epochs.\n",
    "4. **Model assessment:** method to calculate the accuracy of the model as a\n",
    "function of the number of sequences of stimulation\n",
    "\n",
    "Let's do it!"
   ]
  },
  {
   "cell_type": "code",
   "execution_count": 5,
   "metadata": {
    "pycharm": {
     "name": "#%% cd\n"
    }
   },
   "outputs": [
    {
     "ename": "TypeError",
     "evalue": "Can't instantiate abstract class ERPSpellerModel with abstract methods build, configure",
     "output_type": "error",
     "traceback": [
      "\u001B[1;31m---------------------------------------------------------------------------\u001B[0m",
      "\u001B[1;31mTypeError\u001B[0m                                 Traceback (most recent call last)",
      "Cell \u001B[1;32mIn[5], line 29\u001B[0m\n\u001B[0;32m     23\u001B[0m model_assessment \u001B[38;5;241m=\u001B[39m components\u001B[38;5;241m.\u001B[39mProcessingFuncWrapper(\n\u001B[0;32m     24\u001B[0m     erp_spellers\u001B[38;5;241m.\u001B[39mcommand_decoding_accuracy_per_seq,\n\u001B[0;32m     25\u001B[0m     outputs\u001B[38;5;241m=\u001B[39m[\u001B[38;5;124m'\u001B[39m\u001B[38;5;124mspell_acc_per_seq\u001B[39m\u001B[38;5;124m'\u001B[39m]\n\u001B[0;32m     26\u001B[0m )\n\u001B[0;32m     28\u001B[0m \u001B[38;5;66;03m# Create algorithm instance and add the methods\u001B[39;00m\n\u001B[1;32m---> 29\u001B[0m alg \u001B[38;5;241m=\u001B[39m \u001B[43merp_spellers\u001B[49m\u001B[38;5;241;43m.\u001B[39;49m\u001B[43mERPSpellerModel\u001B[49m\u001B[43m(\u001B[49m\u001B[43m)\u001B[49m\n\u001B[0;32m     30\u001B[0m alg\u001B[38;5;241m.\u001B[39madd_method(\u001B[38;5;124m'\u001B[39m\u001B[38;5;124mprep\u001B[39m\u001B[38;5;124m'\u001B[39m, prep)\n\u001B[0;32m     31\u001B[0m alg\u001B[38;5;241m.\u001B[39madd_method(\u001B[38;5;124m'\u001B[39m\u001B[38;5;124mfeat-ext\u001B[39m\u001B[38;5;124m'\u001B[39m, feat_ext)\n",
      "\u001B[1;31mTypeError\u001B[0m: Can't instantiate abstract class ERPSpellerModel with abstract methods build, configure"
     ]
    }
   ],
   "source": [
    "# 1. Preprocessing\n",
    "prep = erp_spellers.StandardPreprocessing()\n",
    "\n",
    "# 2. Feature extractor\n",
    "feat_ext = erp_spellers.StandardFeatureExtraction()\n",
    "\n",
    "# 3. Classifier. We must define the methods and output variables that will be\n",
    "# exposed to the algorithm. In this case, we will need fit and predict_proba.\n",
    "# See the sklearn documentation to learn more about this classifier.\n",
    "clf = components.ProcessingClassWrapper(\n",
    "    SVC(), fit=[], predict=['y_pred']\n",
    ")\n",
    "\n",
    "# 4. Command decoding function to decode the predicted command from epochs\n",
    "# scores\n",
    "cmd_decoding = components.ProcessingFuncWrapper(\n",
    "    erp_spellers.decode_commands,\n",
    "    outputs=['spell_result', 'spell_result_per_seq', 'scores']\n",
    ")\n",
    "\n",
    "# 5. Method to calculate the accuracy of the classifier per number of\n",
    "# sequences of stimulation\n",
    "model_assessment = components.ProcessingFuncWrapper(\n",
    "    erp_spellers.command_decoding_accuracy_per_seq,\n",
    "    outputs=['spell_acc_per_seq']\n",
    ")\n",
    "\n",
    "# Create algorithm instance and add the methods\n",
    "alg = erp_spellers.ERPSpellerModel()\n",
    "alg.add_method('prep', prep)\n",
    "alg.add_method('feat-ext', feat_ext)\n",
    "alg.add_method('clf', clf)\n",
    "alg.add_method('cmd-decoding', cmd_decoding)\n",
    "alg.add_method('assessment', model_assessment)\n",
    "\n",
    "print('OK!')"
   ]
  },
  {
   "cell_type": "markdown",
   "metadata": {},
   "source": [
    "## Define model pipelines\n",
    "\n",
    "Once the methods have been added to the algorithm, it's time to define the\n",
    "algorithm processing pipelines. Models based on ERPSpellerModel, which\n",
    "inherits from components.Algorithm, have to implement 2 pipelines: one to fit\n",
    "the algorithm from a dataset, and one to predict commands from EEG signal."
   ]
  },
  {
   "cell_type": "code",
   "execution_count": 6,
   "outputs": [
    {
     "ename": "NameError",
     "evalue": "name 'alg' is not defined",
     "output_type": "error",
     "traceback": [
      "\u001B[1;31m---------------------------------------------------------------------------\u001B[0m",
      "\u001B[1;31mNameError\u001B[0m                                 Traceback (most recent call last)",
      "Cell \u001B[1;32mIn[6], line 121\u001B[0m\n\u001B[0;32m     88\u001B[0m     uid_4 \u001B[38;5;241m=\u001B[39m pipe\u001B[38;5;241m.\u001B[39madd(\n\u001B[0;32m     89\u001B[0m         method_func_key\u001B[38;5;241m=\u001B[39m\u001B[38;5;124m'\u001B[39m\u001B[38;5;124mcmd-decoding:decode_commands\u001B[39m\u001B[38;5;124m'\u001B[39m,\n\u001B[0;32m     90\u001B[0m         scores\u001B[38;5;241m=\u001B[39mpipe\u001B[38;5;241m.\u001B[39mconn_to(uid_3, \u001B[38;5;124m'\u001B[39m\u001B[38;5;124my_pred\u001B[39m\u001B[38;5;124m'\u001B[39m),\n\u001B[1;32m   (...)\u001B[0m\n\u001B[0;32m    117\u001B[0m             conn_exp\u001B[38;5;241m=\u001B[39m\u001B[38;5;28;01mlambda\u001B[39;00m x_info: x_info[\u001B[38;5;124m'\u001B[39m\u001B[38;5;124mbatch_idx\u001B[39m\u001B[38;5;124m'\u001B[39m]),\n\u001B[0;32m    118\u001B[0m     )\n\u001B[0;32m    119\u001B[0m     \u001B[38;5;28;01mreturn\u001B[39;00m pipe\n\u001B[1;32m--> 121\u001B[0m \u001B[43malg\u001B[49m\u001B[38;5;241m.\u001B[39madd_pipeline(\u001B[38;5;124m'\u001B[39m\u001B[38;5;124mfit_dataset\u001B[39m\u001B[38;5;124m'\u001B[39m, fit_dataset_pipeline())\n\u001B[0;32m    122\u001B[0m alg\u001B[38;5;241m.\u001B[39madd_pipeline(\u001B[38;5;124m'\u001B[39m\u001B[38;5;124mpredict\u001B[39m\u001B[38;5;124m'\u001B[39m, predict_pipeline())\n\u001B[0;32m    124\u001B[0m \u001B[38;5;28mprint\u001B[39m(\u001B[38;5;124m'\u001B[39m\u001B[38;5;124mOK!\u001B[39m\u001B[38;5;124m'\u001B[39m)\n",
      "\u001B[1;31mNameError\u001B[0m: name 'alg' is not defined"
     ]
    }
   ],
   "source": [
    "def fit_dataset_pipeline():\n",
    "    pipe = components.Pipeline()\n",
    "    uid_0 = pipe.input(['dataset'])\n",
    "    uid_1 = pipe.add(\n",
    "        method_func_key='prep:fit_transform_dataset',\n",
    "        dataset=pipe.conn_to(uid_0, 'dataset')\n",
    "    )\n",
    "    uid_2 = pipe.add(\n",
    "        method_func_key='feat-ext:transform_dataset',\n",
    "        dataset=pipe.conn_to(uid_1, 'dataset'),\n",
    "    )\n",
    "    uid_3 = pipe.add(\n",
    "        method_func_key='clf:fit',\n",
    "        X=pipe.conn_to(uid_2, 'x'),\n",
    "        y=pipe.conn_to(uid_2, 'x_info',\n",
    "                       conn_exp=lambda x_info: x_info['erp_labels']\n",
    "        )\n",
    "    )\n",
    "    uid_4 = pipe.add(\n",
    "        method_func_key='clf:predict',\n",
    "        X=pipe.conn_to(uid_2, 'x')\n",
    "    )\n",
    "    uid_5 = pipe.add(\n",
    "        method_func_key='cmd-decoding:decode_commands',\n",
    "        scores=pipe.conn_to(uid_4, 'y_pred'),\n",
    "        paradigm_conf=pipe.conn_to(\n",
    "            uid_2, 'x_info',\n",
    "            conn_exp=lambda x_info: x_info['paradigm_conf']),\n",
    "        run_idx=pipe.conn_to(\n",
    "            uid_2, 'x_info',\n",
    "            conn_exp=lambda x_info: x_info['run_idx']),\n",
    "        trial_idx=pipe.conn_to(\n",
    "            uid_2, 'x_info',\n",
    "            conn_exp=lambda x_info: x_info['trial_idx']),\n",
    "        matrix_idx=pipe.conn_to(\n",
    "            uid_2, 'x_info',\n",
    "            conn_exp=lambda x_info: x_info['matrix_idx']),\n",
    "        level_idx=pipe.conn_to(\n",
    "            uid_2, 'x_info',\n",
    "            conn_exp=lambda x_info: x_info['level_idx']),\n",
    "        unit_idx=pipe.conn_to(\n",
    "            uid_2, 'x_info',\n",
    "            conn_exp=lambda x_info: x_info['unit_idx']),\n",
    "        sequence_idx=pipe.conn_to(\n",
    "            uid_2, 'x_info',\n",
    "            conn_exp=lambda x_info: x_info['sequence_idx']),\n",
    "        group_idx=pipe.conn_to(\n",
    "            uid_2, 'x_info',\n",
    "            conn_exp=lambda x_info: x_info['group_idx']),\n",
    "        batch_idx=pipe.conn_to(\n",
    "            uid_2, 'x_info',\n",
    "            conn_exp=lambda x_info: x_info['batch_idx']),\n",
    "    )\n",
    "    uid_6 = pipe.add(\n",
    "        method_func_key='assessment:command_decoding_accuracy_per_seq',\n",
    "        selected_commands_per_seq=pipe.conn_to(\n",
    "            uid_5, 'spell_result_per_seq'\n",
    "        ),\n",
    "        target_commands=pipe.conn_to(\n",
    "            uid_2, 'x_info',\n",
    "            conn_exp=lambda x_info: x_info['spell_target']\n",
    "        )\n",
    "    )\n",
    "    return pipe\n",
    "\n",
    "def predict_pipeline():\n",
    "    pipe = components.Pipeline()\n",
    "    uid_0 = pipe.input(['times', 'signal', 'fs', 'x_info'])\n",
    "    uid_1 = pipe.add(\n",
    "        method_func_key='prep:fit_transform_signal',\n",
    "        signal=pipe.conn_to(uid_0, 'signal'),\n",
    "        fs=pipe.conn_to(uid_0, 'fs')\n",
    "    )\n",
    "    uid_2 = pipe.add(\n",
    "        method_func_key='feat-ext:transform_signal',\n",
    "        times=pipe.conn_to(uid_0, 'times'),\n",
    "        signal=pipe.conn_to(uid_1, 'signal'),\n",
    "        fs=pipe.conn_to(uid_0, 'fs'),\n",
    "        onsets=pipe.conn_to(\n",
    "            uid_0, 'x_info',\n",
    "            conn_exp=lambda x_info: x_info['onsets']\n",
    "        ),\n",
    "    )\n",
    "    uid_3 = pipe.add(\n",
    "        method_func_key='clf:predict',\n",
    "        X=pipe.conn_to(uid_2, 'x'),\n",
    "    )\n",
    "    uid_4 = pipe.add(\n",
    "        method_func_key='cmd-decoding:decode_commands',\n",
    "        scores=pipe.conn_to(uid_3, 'y_pred'),\n",
    "        paradigm_conf=pipe.conn_to(\n",
    "            uid_0, 'x_info',\n",
    "            conn_exp=lambda x_info: x_info['paradigm_conf']),\n",
    "        run_idx=pipe.conn_to(\n",
    "            uid_0, 'x_info',\n",
    "            conn_exp=lambda x_info: x_info['run_idx']),\n",
    "        trial_idx=pipe.conn_to(\n",
    "            uid_0, 'x_info',\n",
    "            conn_exp=lambda x_info: x_info['trial_idx']),\n",
    "        matrix_idx=pipe.conn_to(\n",
    "            uid_0, 'x_info',\n",
    "            conn_exp=lambda x_info: x_info['matrix_idx']),\n",
    "        level_idx=pipe.conn_to(\n",
    "            uid_0, 'x_info',\n",
    "            conn_exp=lambda x_info: x_info['level_idx']),\n",
    "        unit_idx=pipe.conn_to(\n",
    "            uid_0, 'x_info',\n",
    "            conn_exp=lambda x_info: x_info['unit_idx']),\n",
    "        sequence_idx=pipe.conn_to(\n",
    "            uid_0, 'x_info',\n",
    "            conn_exp=lambda x_info: x_info['sequence_idx']),\n",
    "        group_idx=pipe.conn_to(\n",
    "            uid_0, 'x_info',\n",
    "            conn_exp=lambda x_info: x_info['group_idx']),\n",
    "        batch_idx=pipe.conn_to(\n",
    "            uid_0, 'x_info',\n",
    "            conn_exp=lambda x_info: x_info['batch_idx']),\n",
    "    )\n",
    "    return pipe\n",
    "\n",
    "alg.add_pipeline('fit_dataset', fit_dataset_pipeline())\n",
    "alg.add_pipeline('predict', predict_pipeline())\n",
    "\n",
    "print('OK!')"
   ],
   "metadata": {
    "collapsed": false,
    "pycharm": {
     "name": "#%% cd\n"
    }
   }
  },
  {
   "cell_type": "markdown",
   "metadata": {},
   "source": [
    "## Fit model\n",
    "\n",
    "Time to fit the model! call to function fit to execute fit-dataset pipeline."
   ]
  },
  {
   "cell_type": "code",
   "execution_count": 7,
   "metadata": {
    "pycharm": {
     "name": "#%% cd\n"
    }
   },
   "outputs": [
    {
     "ename": "NameError",
     "evalue": "name 'alg' is not defined",
     "output_type": "error",
     "traceback": [
      "\u001B[1;31m---------------------------------------------------------------------------\u001B[0m",
      "\u001B[1;31mNameError\u001B[0m                                 Traceback (most recent call last)",
      "Cell \u001B[1;32mIn[7], line 2\u001B[0m\n\u001B[0;32m      1\u001B[0m \u001B[38;5;66;03m# Execute fit pipeline\u001B[39;00m\n\u001B[1;32m----> 2\u001B[0m fit_res \u001B[38;5;241m=\u001B[39m \u001B[43malg\u001B[49m\u001B[38;5;241m.\u001B[39mfit_dataset(dataset)\n\u001B[0;32m      3\u001B[0m print_acc_per_seq(fit_res[\u001B[38;5;241m6\u001B[39m][\u001B[38;5;124m'\u001B[39m\u001B[38;5;124mres\u001B[39m\u001B[38;5;124m'\u001B[39m][\u001B[38;5;124m'\u001B[39m\u001B[38;5;124mspell_acc_per_seq\u001B[39m\u001B[38;5;124m'\u001B[39m])\n",
      "\u001B[1;31mNameError\u001B[0m: name 'alg' is not defined"
     ]
    }
   ],
   "source": [
    "# Execute fit pipeline\n",
    "fit_res = alg.fit_dataset(dataset)\n",
    "print_acc_per_seq(fit_res[6]['res']['spell_acc_per_seq'])"
   ]
  },
  {
   "cell_type": "markdown",
   "source": [
    "## Predict commands\n",
    "\n",
    "Time to predict some commands simulating an online experiment! call function\n",
    "predict to execute predict pipeline."
   ],
   "metadata": {
    "collapsed": false
   }
  },
  {
   "cell_type": "code",
   "execution_count": 8,
   "outputs": [
    {
     "ename": "IndexError",
     "evalue": "list index out of range",
     "output_type": "error",
     "traceback": [
      "\u001B[1;31m---------------------------------------------------------------------------\u001B[0m",
      "\u001B[1;31mIndexError\u001B[0m                                Traceback (most recent call last)",
      "Cell \u001B[1;32mIn[8], line 2\u001B[0m\n\u001B[0;32m      1\u001B[0m \u001B[38;5;66;03m# Get some signal\u001B[39;00m\n\u001B[1;32m----> 2\u001B[0m rec \u001B[38;5;241m=\u001B[39m \u001B[43mdataset\u001B[49m\u001B[38;5;241;43m.\u001B[39;49m\u001B[43mrecordings\u001B[49m\u001B[43m[\u001B[49m\u001B[38;5;241;43m0\u001B[39;49m\u001B[43m]\u001B[49m\n\u001B[0;32m      3\u001B[0m times \u001B[38;5;241m=\u001B[39m rec\u001B[38;5;241m.\u001B[39meeg\u001B[38;5;241m.\u001B[39mtimes\n\u001B[0;32m      4\u001B[0m signal \u001B[38;5;241m=\u001B[39m rec\u001B[38;5;241m.\u001B[39meeg\u001B[38;5;241m.\u001B[39msignal\n",
      "\u001B[1;31mIndexError\u001B[0m: list index out of range"
     ]
    }
   ],
   "source": [
    "# Get some signal\n",
    "rec = dataset.recordings[0]\n",
    "times = rec.eeg.times\n",
    "signal = rec.eeg.signal\n",
    "fs = rec.eeg.fs\n",
    "l_cha = rec.eeg.channel_set.l_cha\n",
    "x_info = {'onsets': rec.erpspellerdata.onsets,\n",
    "          'paradigm_conf': [rec.erpspellerdata.paradigm_conf],\n",
    "          'run_idx': np.zeros_like(rec.erpspellerdata.onsets),\n",
    "          'trial_idx': rec.erpspellerdata.trial_idx,\n",
    "          'matrix_idx': rec.erpspellerdata.matrix_idx,\n",
    "          'level_idx': rec.erpspellerdata.level_idx,\n",
    "          'unit_idx': rec.erpspellerdata.unit_idx,\n",
    "          'sequence_idx': rec.erpspellerdata.sequence_idx,\n",
    "          'group_idx': rec.erpspellerdata.group_idx,\n",
    "          'batch_idx': rec.erpspellerdata.batch_idx}\n",
    "\n",
    "# Execute predict pipeline\n",
    "predict_res = alg.predict(times, signal, fs, l_cha, x_info)\n",
    "\n",
    "print('\\nCommand decoding results:')\n",
    "print(rec.erpspellerdata.spell_target)\n",
    "print(predict_res[4]['res']['spell_result'])"
   ],
   "metadata": {
    "collapsed": false,
    "pycharm": {
     "name": "#%% cd\n"
    }
   }
  },
  {
   "cell_type": "markdown",
   "metadata": {},
   "source": [
    "## Persistence\n",
    "\n",
    "The Algorithm class includes persistence options to save the algorithm in\n",
    "the current state. Medusa uses dill as serialization tool and thus it has\n",
    "the same advantages and disadvantages of this tool.\n",
    "\n",
    "It is possible to come across classes that are not directly serializable with\n",
    "dill (e.g., keras models). In such cases, override methods 'to_pickleable_obj'\n",
    "and 'from_pickleable_obj' of class Processing method.\n",
    "\n",
    "Execute the next cell to save and load the previous model."
   ]
  },
  {
   "cell_type": "code",
   "execution_count": 9,
   "metadata": {
    "pycharm": {
     "name": "#%% cd\n"
    }
   },
   "outputs": [
    {
     "ename": "NameError",
     "evalue": "name 'alg' is not defined",
     "output_type": "error",
     "traceback": [
      "\u001B[1;31m---------------------------------------------------------------------------\u001B[0m",
      "\u001B[1;31mNameError\u001B[0m                                 Traceback (most recent call last)",
      "Cell \u001B[1;32mIn[9], line 2\u001B[0m\n\u001B[0;32m      1\u001B[0m \u001B[38;5;66;03m# Save algorithm\u001B[39;00m\n\u001B[1;32m----> 2\u001B[0m \u001B[43malg\u001B[49m\u001B[38;5;241m.\u001B[39msave(\u001B[38;5;124m'\u001B[39m\u001B[38;5;124malg.pkl\u001B[39m\u001B[38;5;124m'\u001B[39m)\n\u001B[0;32m      4\u001B[0m \u001B[38;5;66;03m# Load algorithm\u001B[39;00m\n\u001B[0;32m      5\u001B[0m loaded_alg \u001B[38;5;241m=\u001B[39m erp_spellers\u001B[38;5;241m.\u001B[39mERPSpellerModel\u001B[38;5;241m.\u001B[39mload(\u001B[38;5;124m'\u001B[39m\u001B[38;5;124malg.pkl\u001B[39m\u001B[38;5;124m'\u001B[39m)\n",
      "\u001B[1;31mNameError\u001B[0m: name 'alg' is not defined"
     ]
    }
   ],
   "source": [
    "# Save algorithm\n",
    "alg.save('alg.pkl')\n",
    "\n",
    "# Load algorithm\n",
    "loaded_alg = erp_spellers.ERPSpellerModel.load('alg.pkl')\n",
    "\n",
    "# Predict with the loaded model\n",
    "predict_res = loaded_alg.predict(times, signal, fs, l_cha, x_info)\n",
    "print('\\nCommand decoding results:')\n",
    "print(rec.erpspellerdata.spell_target)\n",
    "print(predict_res[4]['res']['spell_result'])"
   ]
  },
  {
   "cell_type": "markdown",
   "metadata": {},
   "source": [
    "## Standalone models\n",
    "\n",
    "Congratulations! The file alg.pkl in your working directory contains a\n",
    "standalone version of our algorithm. To load and use it in a different\n",
    "script or machine, use the following code:\n",
    "\n",
    "    >>> from medusa.bci import erp_spellers\n",
    "    >>> alg = erp_spellers.ERPSpellerModel.load('alg.pkl')\n",
    "\n",
    "Standalone algorithms are very useful for developers and scientists that design\n",
    "add-hoc algorithms for a certain problem, database, etc, and want to share them\n",
    "in an easy and quick way. Moreover, they are compatible with Medusa platform\n",
    "apps.\n",
    "\n",
    "Remember that only algorithms that contain methods accessible in the destination\n",
    "machine can be distributed as a single file. For example, our example\n",
    "can only be loaded in python environments which have sklearn installed. This\n",
    "shouldn't be a problem, even for the most complex examples, due to the huge\n",
    "amount of data processing packages available nowadays. Additionally, note\n",
    "that dill is able to deserialize functions from scratch.\n",
    "\n",
    "In the rare case that the available packages and dill functionalities don't suit\n",
    "your needs, you have 2 options to distribute your algorithm: distribute your\n",
    "code along with the algorithm file or create your own package in PyPI to easily\n",
    "install your methods in any computer."
   ]
  },
  {
   "cell_type": "markdown",
   "metadata": {},
   "source": [
    "## Conclusion\n",
    "\n",
    "That's all for now! Now you have a comprehensive picture on how to create and\n",
    "use your own models for ERP-based spellers As you can see, you can build full\n",
    "signal processing pipelines in a very flexible and easy way with few code\n",
    "lines using Medusa!\n",
    "\n",
    "See you in the next tutorial!"
   ]
  },
  {
   "cell_type": "code",
   "execution_count": null,
   "outputs": [],
   "source": [],
   "metadata": {
    "collapsed": false
   }
  }
 ],
 "metadata": {
  "kernelspec": {
   "display_name": "Python 3",
   "language": "python",
   "name": "python3"
  },
  "language_info": {
   "codemirror_mode": {
    "name": "ipython",
    "version": 3
   },
   "file_extension": ".py",
   "mimetype": "text/x-python",
   "name": "python",
   "nbconvert_exporter": "python",
   "pygments_lexer": "ipython3",
   "version": "3.8.8"
  }
 },
 "nbformat": 4,
 "nbformat_minor": 1
}
