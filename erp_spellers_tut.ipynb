{
 "cells": [
  {
   "cell_type": "markdown",
   "metadata": {
    "pycharm": {
     "name": "#%% md\n"
    }
   },
   "source": [
    "# Welcome to the overview of medusa.bci.erp_spellers module!\n",
    "\n",
    "This module contains high level classes and functions specifically designed\n",
    "for ERP-based spellers. This notebook will cover the main features, functions\n",
    "and classes of the module through illustrative examples which will show you\n",
    "the power of the included tools.\n",
    "\n",
    "In this notebook you will learn:\n",
    "    - What is an ERP-based speller\n",
    "    - Download an open ERP-speller dataset and explore the files\n",
    "    - Create an instance of ERPSpellerDataset\n",
    "    - Know the feature extraction and decoding functions included in the module\n",
    "    - Implement an asynchronous ERP-based speller using the built-in models\n",
    "\n",
    "Do not forget to check the documentation if you do not understand something!"
   ]
  },
  {
   "cell_type": "markdown",
   "metadata": {
    "pycharm": {
     "name": "#%% md\n"
    }
   },
   "source": [
    "## Introduction\n",
    "\n",
    "ERP-based spellers are\n"
   ]
  },
  {
   "cell_type": "markdown",
   "metadata": {},
   "source": [
    "## Imports\n",
    "\n",
    "Import the modules that will be used in this notebook and define auxiliary\n",
    "functions."
   ]
  },
  {
   "cell_type": "code",
   "execution_count": null,
   "metadata": {
    "pycharm": {
     "name": "#%% cd\n"
    }
   },
   "outputs": [],
   "source": [
    "# General imports\n",
    "import glob\n",
    "from tabulate import tabulate\n",
    "import numpy as np\n",
    "\n",
    "# Medusa imports\n",
    "from medusa import components\n",
    "from medusa import meeg\n",
    "from medusa.bci import erp_spellers\n",
    "\n",
    "def print_acc_per_seq(acc_per_seq):\n",
    "    table_cmd_acc_per_seq = ['Command decoding acc']\n",
    "    cmd_acc_per_seq = np.char.mod('%.2f', acc_per_seq*100).astype(str).tolist()\n",
    "    table_cmd_acc_per_seq += cmd_acc_per_seq\n",
    "    headers = [''] + list(range(1, 16))\n",
    "    print('\\nTrain accuracy per number of sequences of stimulation:\\n')\n",
    "    print(tabulate([table_cmd_acc_per_seq], headers=headers))\n",
    "\n",
    "print('OK!')"
   ]
  },
  {
   "cell_type": "markdown",
   "metadata": {},
   "source": [
    "## Download the dataset\n",
    "\n",
    "As strong supporters of open science, we have released and adapted some\n",
    "valuable datasets that can be very useful for researchers and practitioners.\n",
    "These datasets can be downloaded manually from www.medusa.com/datasets/ or\n",
    "using a simple API. In this case, we will use the API. Run the following cell\n",
    "to download the GIB-UVa ERP dataset [1].\n",
    "\n",
    "Each file is an instance of medusa.data_structures.Recording. This class\n",
    "contains the information of the performed experiment and the recorded biosignals\n",
    "In this case, the recordings contain an instance of\n",
    "medusa.components.ERPSpellerData, which is the default class for this\n",
    "experiment. Additionally, all recordings contain a medusa.meeg.EEG instance."
   ]
  },
  {
   "cell_type": "code",
   "execution_count": null,
   "metadata": {
    "pycharm": {
     "name": "#%% cd\n"
    }
   },
   "outputs": [],
   "source": [
    "# TODO: Download dataset\n",
    "# dataset_folder = os.getcwd()"
   ]
  },
  {
   "cell_type": "markdown",
   "metadata": {
    "pycharm": {
     "name": "#%% md\n"
    }
   },
   "source": [
    "## ERPSpellerDataset class\n",
    "\n",
    "This class is used to define an ERPSpeller dataset, which contains all the\n",
    "necessary information to work with the functions and classes of the module and\n",
    "checks for common errors.\n",
    "\n",
    "First, we have to define the channel set of the dataset. The signals added\n",
    "to the dataset will be adapted to this channel set, discarding the rest of EEG\n",
    "channels. In addition, the channels will be reordered if necessary. This\n",
    "avoids errors in heterogeneous datasets, and, believe me, saves tons of time\n",
    "wasted debugging machine learning algorithms. In this case, we will use 4 EEG\n",
    "channels: Fz, Cz, Pz, and Oz.\n",
    "\n",
    "We also have to define other parameters. The sample rate of the recordings\n",
    "is set to 256 Hz (if a file has different sample rate, it will throw  an error).\n",
    "We also define the keys to find the target biosignal (EEG) and experiment data\n",
    "(ERPSpellerData) attributes in the recording class, a well as the experiment\n",
    "mode, which is  set to train because we will use this dataset to train a\n",
    "model later. Check the documentation to understand the details of this and\n",
    "more parameters."
   ]
  },
  {
   "cell_type": "code",
   "execution_count": null,
   "metadata": {
    "pycharm": {
     "name": "#%% cd\n"
    }
   },
   "outputs": [],
   "source": [
    "cha_set = meeg.EEGChannelSet()\n",
    "cha_set.set_standard_channels(l_cha=['Fz', 'Cz', 'Pz', 'Oz'])\n",
    "dataset = erp_spellers.ERPSpellerDataset(channel_set=cha_set,\n",
    "                                         fs=256,\n",
    "                                         biosignal_att_key='eeg',\n",
    "                                         experiment_att_key='erpspellerdata',\n",
    "                                         experiment_mode='train')\n",
    "\n",
    "print('OK!')"
   ]
  },
  {
   "cell_type": "markdown",
   "metadata": {
    "pycharm": {
     "name": "#%% md\n"
    }
   },
   "source": [
    "## Add recordings to the dataset\n",
    "\n",
    "Now, we have to add the recordings to the dataset. With this purpose, we read\n",
    "the files that were downloaded and use the function add_recordings of our\n",
    "dataset. Note that this function admits instances of medusa.components.Recording\n",
    "or a list of paths. For convenience, we will use the second option in this case."
   ]
  },
  {
   "cell_type": "code",
   "execution_count": null,
   "metadata": {
    "pycharm": {
     "name": "#%% cd\n"
    }
   },
   "outputs": [],
   "source": [
    "folder = 'data'\n",
    "file_pattern = '*.rcp.bson'\n",
    "files = glob.glob('%s/%s' % (folder, file_pattern))\n",
    "dataset.add_recordings(files)\n",
    "\n",
    "print('OK!')"
   ]
  },
  {
   "cell_type": "markdown",
   "metadata": {
    "pycharm": {
     "name": "#%% md\n"
    }
   },
   "source": [
    "## Explore some functions and classes\n",
    "\n",
    "Once we have defined our dataset, we can start to play! First, we extract\n",
    "ERP features using the class StandardFeatureExtraction with default parameters.\n",
    "This class extracts the EEG epochs after each stimulus onset\n",
    "\n",
    "Afterwards, we explore some decoding functions of the module, which translate\n",
    "epoch classification scores into commands,"
   ]
  },
  {
   "cell_type": "code",
   "execution_count": null,
   "metadata": {
    "pycharm": {
     "name": "#%% cd\n"
    }
   },
   "outputs": [],
   "source": [
    "# Extract ERP features of the dataset using the transform_dataset function of\n",
    "# StandardFeatureExtraction.\n",
    "feat_extractor = erp_spellers.StandardFeatureExtraction()\n",
    "x, x_info = feat_extractor.transform_dataset(dataset)\n",
    "\n",
    "# Print some info of the extracted features\n",
    "data_exploration = [\n",
    "    ['Runs', np.unique(x_info['run_idx']).shape[0]],\n",
    "    ['Epochs', x.shape[0]],\n",
    "    ['Target', np.sum(x_info['erp_labels']==1)],\n",
    "    ['Non-target', np.sum(x_info['erp_labels']==0)]\n",
    "]\n",
    "print('\\nData exploration: \\n')\n",
    "print(tabulate(data_exploration))\n",
    "\n",
    "# Check the command decoding function. In practice, you would put the\n",
    "# classification scores for the ERP epochs, instead of the erp labels.\n",
    "selected_commands, selected_commands_per_seq, cmd_scores = \\\n",
    "    erp_spellers.decode_commands(\n",
    "        x_info['erp_labels'],\n",
    "        x_info['paradigm_conf'],\n",
    "        x_info['run_idx'],\n",
    "        x_info['trial_idx'],\n",
    "        x_info['matrix_idx'],\n",
    "        x_info['level_idx'],\n",
    "        x_info['unit_idx'],\n",
    "        x_info['sequence_idx'],\n",
    "        x_info['group_idx'],\n",
    "        x_info['batch_idx']\n",
    "    )\n",
    "\n",
    "# Check this function to calculate the command decoding accuracy\n",
    "cmd_acc = erp_spellers.command_decoding_accuracy(\n",
    "    selected_commands,\n",
    "    x_info['spell_target']\n",
    ")\n",
    "print('Command decoding accuracy: %.2f %%' % (cmd_acc * 100))\n",
    "\n",
    "# Check this function to calculate the command decoding accuracy as a function\n",
    "# of the number of stimulation sequences included in the analysis.\n",
    "cmd_acc_per_seq = erp_spellers.command_decoding_accuracy_per_seq(\n",
    "    selected_commands_per_seq,\n",
    "    x_info['spell_target']\n",
    ")\n",
    "print_acc_per_seq(cmd_acc_per_seq)"
   ]
  },
  {
   "cell_type": "markdown",
   "metadata": {
    "pycharm": {
     "name": "#%% md\n"
    }
   },
   "source": [
    "## Command decoding model\n",
    "\n",
    "Although the previous functions are really powerful, and you can build your\n",
    "own EEG processing framework for ERP-based spellers easily with them, there is\n",
    "several built-in classes that combine them all to provide tested models ready to\n",
    "be used in your projects.\n",
    "\n",
    "In this tutorial, we will use some of the most powerful processing algorithms\n",
    "designed to date for ERP-based spellers. Take into account these models\n",
    "implement all the stages of the signal processing pipeline using the available\n",
    "functions in Medusa: (1) preprocessing, (2) feature extraction, (3) feature\n",
    "selection, (4) feature classification, and (5) command decoding.\n",
    "\n",
    "Concretely, we will use a deep convolutional neural network specifically\n",
    "designed for BCI applications: EEG-Inception. Check this reference to understand\n",
    "all the details of this model [1]. In order to continue with the tutorial,\n",
    "we recommend a  python environment with the GPU version of tensorflow (v 2.0+)\n",
    "to reduce the  training time. If you don't have access to this environment,\n",
    "don't worry, it will take only a few minutes.\n",
    "\n",
    "Run the following cell to create and fit the model for the command decoding\n",
    "task. In other words, the model that guess the intentions of the user directly\n",
    "from the EEG. This model is ready to use in compatible online applications,\n",
    "such as the RCP app included in Medusa platform."
   ]
  },
  {
   "cell_type": "code",
   "execution_count": null,
   "metadata": {
    "pycharm": {
     "name": "#%%\n"
    }
   },
   "outputs": [],
   "source": [
    "# Instantiate CMDModelEEGInception\n",
    "cmd_model = erp_spellers.CMDModelEEGInception(n_cha=4)\n",
    "# Fit model\n",
    "cmd_fit_results = cmd_model.fit_dataset(dataset,\n",
    "                                        validation_split=0.2,\n",
    "                                        batch_size=512)\n",
    "\n",
    "# Print fit results\n",
    "print_acc_per_seq(cmd_fit_results['spell_acc_per_seq'])"
   ]
  },
  {
   "cell_type": "markdown",
   "metadata": {
    "pycharm": {
     "name": "#%% md\n"
    }
   },
   "source": [
    "## Control state detection model\n",
    "\n",
    "There is one limitation that the previous model cannot solve. ERP-based spellers\n",
    "are, inherently, synchronous systems. They always make a selection even when the\n",
    "user is not attending to the stimuli. Nevertheless, this behaviour is not\n",
    "suitable for real applications, where an asynchronous operation is required.\n",
    "Do you imagine a web-browser based on an ERP-based speller in which you\n",
    "cannot read the web page you searched because the system keeps making\n",
    "selections?. Despite the futility of a synchronous system, most approaches to\n",
    "date do not address this issue. In order to achieve an asynchronous approach,\n",
    "we will need 2 types of models:\n",
    "\n",
    "    - Command decoding models (CMD): these models are in charge of the\n",
    "      command decoding task by detecting the ERPs within the EEG epochs to\n",
    "      decode the user's instentions. The previous model solves this task.\n",
    "    - Control state detection models (CSD): these models are in charge of the\n",
    "      control state detection task, which detects if users are attending to the\n",
    "      stimuli or if they are engaged in other activities.\n",
    "\n",
    "It is important to understand that both models are necessary to build the\n",
    "complete signal processing pipeline of an ERP-based speller. Scientists have\n",
    "been traditionally focused in the command decoding task. Nevertheless,\n",
    "ERP-based spellers are useless if they do not detect if the user is controlling\n",
    "the BCI application or is doing something else! Keep that in mind in your\n",
    "designs for real-life applications. In last years, we have worked hard to solve\n",
    "this issue, achieving quite a success. To know more about this problem and\n",
    "our work in the field, check references [2], [3] and [4].\n",
    "\n",
    "In this tutorial we will use the class medusa.erp_spellers.CSDModelEEGInception\n",
    "to achieve an asynchronous ERP-based speller."
   ]
  },
  {
   "cell_type": "code",
   "execution_count": null,
   "metadata": {
    "pycharm": {
     "name": "#%% cd\n"
    }
   },
   "outputs": [],
   "source": [
    "# Instantiate CSDModelEEGInception\n",
    "csd_model = erp_spellers.CSDModelEEGInception(n_cha=4)\n",
    "# Train model\n",
    "csd_fit_results = csd_model.fit_dataset(dataset,\n",
    "                                        validation_split=0.2,\n",
    "                                        batch_size=512)\n",
    "\n",
    "# Print fit results\n",
    "print_acc_per_seq(csd_fit_results['control_state_acc_per_seq'])"
   ]
  },
  {
   "cell_type": "markdown",
   "metadata": {},
   "source": [
    "## Model persistence\n",
    "\n",
    "Now you can save your models to use them later. An important feature is that\n",
    "all models that inherit from erp_spellers.ERPSpellerModel can be loaded in\n",
    "the compatible apps of Medusa platform, so you can try them in online\n",
    "experiments!"
   ]
  },
  {
   "cell_type": "code",
   "execution_count": null,
   "metadata": {
    "pycharm": {
     "name": "#%% cd\n"
    }
   },
   "outputs": [],
   "source": [
    "# Save the models\n",
    "cmd_model.save('cmd_model.pkl')\n",
    "csd_model.save('csd_model.pkl')\n",
    "\n",
    "print('OK!')"
   ]
  },
  {
   "cell_type": "markdown",
   "source": [
    "## Load models\n",
    "\n",
    "Congratulations! The files cmd_model.pkl and csd_model.pkl that have been\n",
    "created in your working directory contain a standalone version of the models in\n",
    "their current state ready to use for offline processing or online applications\n",
    "on Medusa platform. To load the models, use the following code:\n",
    "\n",
    "    >>> from medusa.bci import erp_spellers\n",
    "    >>> cmd_model = erp_spellers.ERPSpellerModel.load('cmd_model.pkl')\n",
    "    >>> csd_model = erp_spellers.ERPSpellerModel.load('csd_model.pkl')\n"
   ],
   "metadata": {
    "collapsed": false,
    "pycharm": {
     "name": "#%% md\n"
    }
   }
  },
  {
   "cell_type": "markdown",
   "metadata": {
    "pycharm": {
     "name": "#%% md\n"
    }
   },
   "source": [
    "## Conclusion\n",
    "\n",
    "That's all for now! Now you have a comprehensive picture of the functions and\n",
    "classes included in the module. As you can see, you can build the full signal\n",
    "processing pipeline of an ERP-based speller in few code lines using Medusa!\n",
    "\n",
    "See you in the next tutorial."
   ]
  },
  {
   "cell_type": "markdown",
   "metadata": {
    "pycharm": {
     "name": "#%% md\n"
    }
   },
   "source": [
    "## References\n",
    "\n",
    "Check the following references for extended information about some of the\n",
    "aspects of this tutorial:\n",
    "\n",
    "1. Santamaría-Vázquez, E., Martínez-Cagigal, V., Vaquerizo-Villar, F., &\n",
    "Hornero, R. (2020). EEG-Inception: A Novel Deep Convolutional Neural Network for\n",
    "Assistive ERP-based Brain-Computer Interfaces. IEEE Transactions on Neural\n",
    "Systems and Rehabilitation Engineering.\n",
    "2. Santamaría-Vázquez, E., Martínez-Cagigal, V., Gomez-Pilar, J., & Hornero,\n",
    "R. (2019). Asynchronous Control of ERP-Based BCI Spellers Using Steady-State\n",
    "Visual Evoked Potentials Elicited by Peripheral Stimuli. IEEE Transactions on\n",
    "Neural Systems and Rehabilitation Engineering, 27(9), 1883-1892.\n",
    "3. Martínez-Cagigal, V., Santamaría-Vázquez, E., & Hornero, R. (2019). \n",
    "Asynchronous control of P300-based brain–computer interfaces using sample \n",
    "entropy. Entropy, 21(3), 230.\n",
    "4. XXX\n"
   ]
  }
 ],
 "metadata": {
  "kernelspec": {
   "display_name": "Python 3",
   "language": "python",
   "name": "python3"
  },
  "language_info": {
   "codemirror_mode": {
    "name": "ipython",
    "version": 3
   },
   "file_extension": ".py",
   "mimetype": "text/x-python",
   "name": "python",
   "nbconvert_exporter": "python",
   "pygments_lexer": "ipython3",
   "version": "3.8.8"
  }
 },
 "nbformat": 4,
 "nbformat_minor": 1
}