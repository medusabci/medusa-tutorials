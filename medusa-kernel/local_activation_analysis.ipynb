{
 "cells": [
  {
   "cell_type": "markdown",
   "source": [
    "# Welcome to the local activation analysis tutorial!\n",
    "\n",
    "Medusa's local activation module implements several parameters focused on analyzing the signal of each sensor individually. That is, the parameters in this category return a single value for sensor and epoch. The parameters here can be divided in two sub-categories: spectral and non-linear. The **spectral parameters** measure different properties of the signal's power spectral density. On the other hand, the **non-linear parameters** assess the time courses of the signals, evaluating its non-linear properties such as the complexity, irregularity, or variability.\n",
    "\n",
    "This notebook will cover the main functions of the module through illustrative examples that will allow you to get started in biosignal analysis with Medusa.\n",
    "\n",
    "In this notebook you will learn:\n",
    "    - Download an open EEG dataset and explore the files\n",
    "    - Pre-process the EEG signal with Medusa filters\n",
    "    - Know the different spectral parameters\n",
    "    - Know the different non-linear parameters\n",
    "    - Get some plots with Medusa's plot functions\n",
    "\n",
    "Do not forget to check the documentation if you do not understand something!\n",
    "\n",
    "## Imports\n",
    "\n",
    "Import the modules that will be used in this notebook."
   ],
   "metadata": {
    "collapsed": false
   }
  },
  {
   "cell_type": "code",
   "execution_count": 6,
   "outputs": [],
   "source": [
    "# General imports\n",
    "import numpy as np\n",
    "from tabulate import tabulate\n",
    "import glob\n",
    "\n",
    "# Medusa imports\n",
    "from medusa import components\n",
    "from medusa.meeg import meeg\n",
    "from medusa import transforms\n",
    "from medusa.local_activation import spectral_parameteres,nonlinear_parameters"
   ],
   "metadata": {
    "collapsed": false
   }
  },
  {
   "cell_type": "markdown",
   "source": [
    "## Download the dataset\n",
    "\n",
    "As strong supporters of open science, we have released and adapted some\n",
    "valuable datasets that can be very useful for researchers and practitioners.\n",
    "These datasets can be downloaded manually from www.medusa.com/datasets/ or\n",
    "using a simple API. In this case, we will use the API. Run the following cell\n",
    "to download the GIB-UVa ERP dataset [1].\n",
    "\n",
    "Each file is an instance of medusa.data_structures.Recording. This class\n",
    "contains the information of the performed experiment and the recorded biosignals\n",
    "In this case, the recordings contain an instance of\n",
    "medusa.components.ERPSpellerData, which is the default class for this\n",
    "experiment. Additionally, all recordings contain a medusa.meeg.EEG instance."
   ],
   "metadata": {
    "collapsed": false
   }
  },
  {
   "cell_type": "code",
   "execution_count": 7,
   "outputs": [],
   "source": [
    "# TODO: Download dataset\n",
    "# dataset_folder = os.getcwd()"
   ],
   "metadata": {
    "collapsed": false
   }
  },
  {
   "cell_type": "markdown",
   "source": [
    "## Explore the EEG file\n",
    "\n",
    "Once we have downloaded the EEG recording dataset, we will import the files and extract interesting information such as the channels used, the sampling frequency, or a copy of the signal."
   ],
   "metadata": {
    "collapsed": false
   }
  },
  {
   "cell_type": "code",
   "execution_count": 8,
   "outputs": [
    {
     "ename": "NameError",
     "evalue": "name 'glob' is not defined",
     "output_type": "error",
     "traceback": [
      "\u001B[1;31m---------------------------------------------------------------------------\u001B[0m",
      "\u001B[1;31mNameError\u001B[0m                                 Traceback (most recent call last)",
      "Cell \u001B[1;32mIn[8], line 4\u001B[0m\n\u001B[0;32m      2\u001B[0m folder \u001B[38;5;241m=\u001B[39m \u001B[38;5;124m'\u001B[39m\u001B[38;5;124mdata\u001B[39m\u001B[38;5;124m'\u001B[39m\n\u001B[0;32m      3\u001B[0m file_pattern \u001B[38;5;241m=\u001B[39m \u001B[38;5;124m'\u001B[39m\u001B[38;5;124m*.rec.bson\u001B[39m\u001B[38;5;124m'\u001B[39m\n\u001B[1;32m----> 4\u001B[0m files \u001B[38;5;241m=\u001B[39m \u001B[43mglob\u001B[49m\u001B[38;5;241m.\u001B[39mglob(\u001B[38;5;124m'\u001B[39m\u001B[38;5;132;01m%s\u001B[39;00m\u001B[38;5;124m/\u001B[39m\u001B[38;5;132;01m%s\u001B[39;00m\u001B[38;5;124m'\u001B[39m \u001B[38;5;241m%\u001B[39m (folder, file_pattern))\n\u001B[0;32m      5\u001B[0m recording \u001B[38;5;241m=\u001B[39m components\u001B[38;5;241m.\u001B[39mRecording\u001B[38;5;241m.\u001B[39mload(files[\u001B[38;5;241m0\u001B[39m])\n\u001B[0;32m      7\u001B[0m \u001B[38;5;66;03m# Get the EEG signal and time-stamps vector from recording\u001B[39;00m\n",
      "\u001B[1;31mNameError\u001B[0m: name 'glob' is not defined"
     ]
    }
   ],
   "source": [
    "# Load one recording from the dataset\n",
    "folder = 'data'\n",
    "file_pattern = '*.rec.bson'\n",
    "files = glob.glob('%s/%s' % (folder, file_pattern))\n",
    "recording = components.Recording.load(files[0])\n",
    "\n",
    "# Get the EEG signal and time-stamps vector from recording\n",
    "signal = recording.eeg.signal.copy()\n",
    "times = recording.eeg.times.copy()\n",
    "\n",
    "# Get the EEG Channel set and sampling rate\n",
    "ch_set = recording.eeg.channel_set\n",
    "fs = recording.eeg.fs\n",
    "\n",
    "# Print some info of the extracted features\n",
    "data_exploration = [\n",
    "    ['Sampling rate (Hz)', fs],\n",
    "    ['Channel labels', ch_set.l_cha],\n",
    "    ['Signal duration (s)', len(times)/fs]]\n",
    "\n",
    "print('\\nData exploration: \\n')\n",
    "print(tabulate(data_exploration))"
   ],
   "metadata": {
    "collapsed": false
   }
  },
  {
   "cell_type": "markdown",
   "source": [],
   "metadata": {
    "collapsed": false
   }
  }
 ],
 "metadata": {
  "kernelspec": {
   "display_name": "Python 3",
   "language": "python",
   "name": "python3"
  },
  "language_info": {
   "codemirror_mode": {
    "name": "ipython",
    "version": 2
   },
   "file_extension": ".py",
   "mimetype": "text/x-python",
   "name": "python",
   "nbconvert_exporter": "python",
   "pygments_lexer": "ipython2",
   "version": "2.7.6"
  }
 },
 "nbformat": 4,
 "nbformat_minor": 0
}
