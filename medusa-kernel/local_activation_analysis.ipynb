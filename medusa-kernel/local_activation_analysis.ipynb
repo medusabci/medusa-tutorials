{
 "cells": [
  {
   "cell_type": "markdown",
   "source": [
    "# Welcome to the local activation analysis tutorial!\n",
    "\n",
    "Medusa's local activation module implements several parameters focused on analyzing the signal of each sensor individually. That is, the parameters in this category return a single value for sensor and epoch. The parameters here can be divided in two sub-categories: spectral and non-linear. The **spectral parameters** measure different properties of the signal's power spectral density. On the other hand, the **non-linear parameters** assess the time courses of the signals, evaluating its non-linear properties such as the complexity, irregularity, or variability.\n",
    "\n",
    "This notebook will cover the main functions of the module through illustrative examples that will allow you to get started in biosignal analysis with Medusa.\n",
    "\n",
    "In this notebook you will learn:\n",
    "    - Download an open EEG dataset and explore the files\n",
    "    - Pre-process the EEG signal with Medusa filters\n",
    "    - Know the different spectral parameters\n",
    "    - Know the different non-linear parameters\n",
    "    - Get some plots with Medusa's plot functions\n",
    "\n",
    "Do not forget to check the documentation if you do not understand something!\n",
    "\n",
    "## Imports\n",
    "\n",
    "Import the modules that will be used in this notebook."
   ],
   "metadata": {
    "collapsed": false
   }
  },
  {
   "cell_type": "code",
   "execution_count": 38,
   "outputs": [],
   "source": [
    "# General imports\n",
    "import numpy as np\n",
    "from tabulate import tabulate\n",
    "import glob\n",
    "\n",
    "# Medusa imports\n",
    "from medusa import components\n",
    "from medusa.meeg import meeg\n",
    "from medusa import transforms\n",
    "from medusa.spatial_filtering import LaplacianFilter\n",
    "from medusa.frequency_filtering import FIRFilter\n",
    "from medusa.local_activation import spectral_parameteres,nonlinear_parameters"
   ],
   "metadata": {
    "collapsed": false
   }
  },
  {
   "cell_type": "markdown",
   "source": [
    "## Download the dataset\n",
    "\n",
    "As strong supporters of open science, we have released and adapted some\n",
    "valuable datasets that can be very useful for researchers and practitioners.\n",
    "These datasets can be downloaded manually from www.medusabci.com/datasets/ or\n",
    "using a simple API. In this case, we will use the API. Run the following cell\n",
    "to download the GIB-UVa ERP dataset [1].\n",
    "\n",
    "Each file is an instance of medusa.data_structures.Recording. This class\n",
    "contains the information of the performed experiment and the recorded biosignals\n",
    "In this case, the recordings contain an instance of\n",
    "medusa.components.ERPSpellerData, which is the default class for this\n",
    "experiment. Additionally, all recordings contain a medusa.meeg.EEG instance."
   ],
   "metadata": {
    "collapsed": false
   }
  },
  {
   "cell_type": "code",
   "execution_count": 39,
   "outputs": [
    {
     "name": "stdout",
     "output_type": "stream",
     "text": [
      "If you have run this cell, you must run the following cell (Explore de EEG file)\n",
      "\n",
      "Data exploration: \n",
      "\n",
      "-------------------  -----------------------------------------------------------------------------------------------------\n",
      "Sampling rate (Hz)   256\n",
      "Channel labels       ['F7', 'F3', 'FZ', 'F4', 'F8', 'FCZ', 'C3', 'CZ', 'C4', 'CPZ', 'P3', 'PZ', 'P4', 'PO7', 'POZ', 'PO8']\n",
      "Signal duration (s)  120\n",
      "-------------------  -----------------------------------------------------------------------------------------------------\n"
     ]
    }
   ],
   "source": [
    "#This functionality is not yet implemented, so the code needed to generate a synthetic signal is included.\n",
    "\n",
    "# dataset_folder = os.getcwd()\n",
    "\n",
    "# Signal parameters\n",
    "l_cha = ['F7','F3','FZ','F4','F8','FCz','C3','CZ','C4','CPz','P3','PZ','P4',\n",
    "         'PO7','POZ','PO8'] # Channel labels\n",
    "fs = 256 # Sampling frequency\n",
    "T = 120 # Signal duration\n",
    "times = np.arange(0,T,1/fs) # Times vector\n",
    "freqs = [4, 10, 13] # Fundamental signal frequencies\n",
    "A_freqs = [1.2, 0.8, 0.5] # Frequencies amplitudes\n",
    "A_noise = 1 # Noise amplitude\n",
    "sigma = 0.75 # Gaussian noise variance\n",
    "ps = np.linspace(0,-np.pi/2,len(l_cha)) # Phase differences between channels\n",
    "\n",
    "# Define signal\n",
    "signal = np.empty((len(times),len(l_cha)))\n",
    "for c in range(len(l_cha)):\n",
    "    signal[:,c] = A_freqs[0] * np.sin(2 * np.pi * freqs[0] * times - ps[c]) + A_freqs[1] * np.sin(2 * np.pi * freqs[1] * times - ps[c]) + A_freqs[2] * np.sin(2 * np.pi * freqs[2] * times - ps[c]) + A_noise * np.random.normal(\n",
    "            0, sigma, size=times.shape)\n",
    "\n",
    "# Create a channel set\n",
    "ch_set = meeg.meeg.EEGChannelSet()\n",
    "ch_set.set_standard_montage(l_cha=l_cha,montage='10-05')\n",
    "\n",
    "print(\"If you have run this cell, you must not run the following cell (Explore de EEG file)\")\n",
    "\n",
    "# Print some info of the extracted features\n",
    "data_exploration = [\n",
    "    ['Sampling rate (Hz)', fs],\n",
    "    ['Channel labels', ch_set.l_cha],\n",
    "    ['Signal duration (s)', T]]\n",
    "\n",
    "print('\\nData exploration: \\n')\n",
    "print(tabulate(data_exploration))"
   ],
   "metadata": {
    "collapsed": false
   }
  },
  {
   "cell_type": "markdown",
   "source": [
    "## Explore the EEG file\n",
    "\n",
    "Once we have downloaded the EEG recording dataset, we will import the files and extract interesting information such as the channels used, the sampling frequency, or a copy of the signal."
   ],
   "metadata": {
    "collapsed": false
   }
  },
  {
   "cell_type": "code",
   "execution_count": 40,
   "outputs": [
    {
     "ename": "IndexError",
     "evalue": "list index out of range",
     "output_type": "error",
     "traceback": [
      "\u001B[1;31m---------------------------------------------------------------------------\u001B[0m",
      "\u001B[1;31mIndexError\u001B[0m                                Traceback (most recent call last)",
      "Cell \u001B[1;32mIn[40], line 5\u001B[0m\n\u001B[0;32m      3\u001B[0m file_pattern \u001B[38;5;241m=\u001B[39m \u001B[38;5;124m'\u001B[39m\u001B[38;5;124m*.rec.bson\u001B[39m\u001B[38;5;124m'\u001B[39m\n\u001B[0;32m      4\u001B[0m files \u001B[38;5;241m=\u001B[39m glob\u001B[38;5;241m.\u001B[39mglob(\u001B[38;5;124m'\u001B[39m\u001B[38;5;132;01m%s\u001B[39;00m\u001B[38;5;124m/\u001B[39m\u001B[38;5;132;01m%s\u001B[39;00m\u001B[38;5;124m'\u001B[39m \u001B[38;5;241m%\u001B[39m (folder, file_pattern))\n\u001B[1;32m----> 5\u001B[0m recording \u001B[38;5;241m=\u001B[39m components\u001B[38;5;241m.\u001B[39mRecording\u001B[38;5;241m.\u001B[39mload(\u001B[43mfiles\u001B[49m\u001B[43m[\u001B[49m\u001B[38;5;241;43m0\u001B[39;49m\u001B[43m]\u001B[49m)\n\u001B[0;32m      7\u001B[0m \u001B[38;5;66;03m# Get the EEG signal and time-stamps vector from recording\u001B[39;00m\n\u001B[0;32m      8\u001B[0m signal \u001B[38;5;241m=\u001B[39m recording\u001B[38;5;241m.\u001B[39meeg\u001B[38;5;241m.\u001B[39msignal\u001B[38;5;241m.\u001B[39mcopy()\n",
      "\u001B[1;31mIndexError\u001B[0m: list index out of range"
     ]
    }
   ],
   "source": [
    "# Load one recording from the dataset\n",
    "folder = 'data'\n",
    "file_pattern = '*.rec.bson'\n",
    "files = glob.glob('%s/%s' % (folder, file_pattern))\n",
    "recording = components.Recording.load(files[0])\n",
    "\n",
    "# Get the EEG signal and time-stamps vector from recording\n",
    "signal = recording.eeg.signal.copy()\n",
    "times = recording.eeg.times.copy()\n",
    "\n",
    "# Get the EEG Channel set and sampling rate\n",
    "ch_set = recording.eeg.channel_set\n",
    "fs = recording.eeg.fs\n",
    "\n",
    "# Print some info of the extracted features\n",
    "data_exploration = [\n",
    "    ['Sampling rate (Hz)', fs],\n",
    "    ['Channel labels', ch_set.l_cha],\n",
    "    ['Signal duration (s)', len(times)/fs]]\n",
    "\n",
    "print('\\nData exploration: \\n')\n",
    "print(tabulate(data_exploration))"
   ],
   "metadata": {
    "collapsed": false
   }
  },
  {
   "cell_type": "markdown",
   "source": [
    "## Signal Pre-processing\n",
    "\n",
    "Now it is time to prepare our signal to the incoming analyses. To do so, we have to apply a proper spacial and spectral pre-processing!\n",
    "\n",
    "Let's suppose that we want to focus our analyses on Fz, C3 and C4 channels. Firstly, we want to emphasize the activity we are interested in. Therefore, we will apply a surface Laplacian spatial filter to eliminate the highly correlated activity of the surrounding channels. Then, a band-pass filter between 0.5 Hz and 30 Hz is then applied to reject the influence of the DC line noise components. We will use a finite impulse response (FIR) filter with a Hamming window."
   ],
   "metadata": {
    "collapsed": false
   }
  },
  {
   "cell_type": "code",
   "execution_count": null,
   "outputs": [],
   "source": [
    "# Create an instance of Laplacian filter and fit it\n",
    "l_cha_to_filter=['FZ','C3','C4']\n",
    "lp_filter = LaplacianFilter(channel_set=ch_set,mode='auto')\n",
    "lp_filter.fit_lp(l_cha_to_filter=l_cha_to_filter)\n",
    "# Mode 'auto' automatically calculates the best small laplacian filter. Let's print\n",
    "# the channels used to calculate the filter for each studied channel\n",
    "\n",
    "for i, filter in enumerate(lp_filter.lp_filter):\n",
    "    print('\\n The Laplacian filter for ' + l_cha_to_filter[i] + ' are: ')\n",
    "    for ch in filter:\n",
    "        print(f'\\n {l_cha[ch]}')\n",
    "\n",
    "\n",
    "# Apply surface Laplacian filter\n",
    "signal_lpf = lp_filter.apply_lp(signal.copy())\n",
    "\n",
    "# Create an instance of FIR filter and fit it\n",
    "order = 500 # Order of the filter\n",
    "cutoff = [0.5,30]\n",
    "btype = 'bandpass' # Type of the filter\n",
    "window = 'hamming'\n",
    "filt_method = 'filtfilt' # Filtering method\n",
    "axis = 0\n",
    "fir_filter = FIRFilter(order=order,cutoff=cutoff,btype=btype,window=window,\n",
    "                       filt_method=filt_method,axis=axis)\n",
    "fir_filter.fit(fs=fs)\n",
    "# Display the FIR filter\n",
    "fir_filter.display()\n",
    "\n",
    "# Apply the FIR filter\n",
    "signal_f = fir_filter.transform(signal=signal_lpf)\n",
    "\n",
    "print(\"The pre-processing stage is finished!\")\n"
   ],
   "metadata": {
    "collapsed": false
   }
  },
  {
   "cell_type": "markdown",
   "source": [],
   "metadata": {
    "collapsed": false
   }
  }
 ],
 "metadata": {
  "kernelspec": {
   "display_name": "Python 3",
   "language": "python",
   "name": "python3"
  },
  "language_info": {
   "codemirror_mode": {
    "name": "ipython",
    "version": 2
   },
   "file_extension": ".py",
   "mimetype": "text/x-python",
   "name": "python",
   "nbconvert_exporter": "python",
   "pygments_lexer": "ipython2",
   "version": "2.7.6"
  }
 },
 "nbformat": 4,
 "nbformat_minor": 0
}
